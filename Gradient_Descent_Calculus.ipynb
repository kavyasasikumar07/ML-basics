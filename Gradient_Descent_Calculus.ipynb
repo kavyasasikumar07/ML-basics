{
  "nbformat": 4,
  "nbformat_minor": 0,
  "metadata": {
    "colab": {
      "provenance": [],
      "include_colab_link": true
    },
    "kernelspec": {
      "name": "python3",
      "display_name": "Python 3"
    },
    "language_info": {
      "name": "python"
    }
  },
  "cells": [
    {
      "cell_type": "markdown",
      "metadata": {
        "id": "view-in-github",
        "colab_type": "text"
      },
      "source": [
        "<a href=\"https://colab.research.google.com/github/kavyasasikumar07/ML-basics/blob/main/Gradient_Descent_Calculus.ipynb\" target=\"_parent\"><img src=\"https://colab.research.google.com/assets/colab-badge.svg\" alt=\"Open In Colab\"/></a>"
      ]
    },
    {
      "cell_type": "code",
      "execution_count": null,
      "metadata": {
        "id": "VDgFHeQa0xPq"
      },
      "outputs": [],
      "source": [
        "import numpy as np"
      ]
    },
    {
      "cell_type": "code",
      "source": [
        "x_data = np.array([-40, -10, 0, 8, 15, 22], dtype=float) # Celcius\n",
        "y_data = np.array([-40, 14, 32, 46, 59, 72], dtype=float) # Farenhite"
      ],
      "metadata": {
        "id": "de0-uQIn010H"
      },
      "execution_count": null,
      "outputs": []
    },
    {
      "cell_type": "code",
      "source": [
        "x = 22\n",
        "m = 1.8\n",
        "c = 32\n",
        "\n",
        "y = x * m + c\n",
        "print(y)"
      ],
      "metadata": {
        "colab": {
          "base_uri": "https://localhost:8080/"
        },
        "id": "cdPm9KyJ1IJ2",
        "outputId": "240efaba-0175-4314-cd73-02ea5f7420c1"
      },
      "execution_count": null,
      "outputs": [
        {
          "output_type": "stream",
          "name": "stdout",
          "text": [
            "71.6\n"
          ]
        }
      ]
    },
    {
      "cell_type": "code",
      "source": [
        "x_data * m + c"
      ],
      "metadata": {
        "colab": {
          "base_uri": "https://localhost:8080/"
        },
        "id": "vRKZwOa01XFB",
        "outputId": "ce3ce845-ba8e-436c-d4d0-299e9cea0d9d"
      },
      "execution_count": null,
      "outputs": [
        {
          "output_type": "execute_result",
          "data": {
            "text/plain": [
              "array([-40. ,  14. ,  32. ,  46.4,  59. ,  71.6])"
            ]
          },
          "metadata": {},
          "execution_count": 103
        }
      ]
    },
    {
      "cell_type": "code",
      "source": [
        "m = 1\n",
        "c = 1\n",
        "\n",
        "y_pred = x_data * m + c\n",
        "print(y_pred)"
      ],
      "metadata": {
        "colab": {
          "base_uri": "https://localhost:8080/"
        },
        "id": "2NBndGQv1fnR",
        "outputId": "021f05e1-84eb-45ad-e900-3b99a17a23ff"
      },
      "execution_count": null,
      "outputs": [
        {
          "output_type": "stream",
          "name": "stdout",
          "text": [
            "[-39.  -9.   1.   9.  16.  23.]\n"
          ]
        }
      ]
    },
    {
      "cell_type": "code",
      "source": [
        "y_data"
      ],
      "metadata": {
        "colab": {
          "base_uri": "https://localhost:8080/"
        },
        "id": "9buKuQUX1uRb",
        "outputId": "3fc3199c-f8a2-4f39-ca91-b564b5ecb166"
      },
      "execution_count": null,
      "outputs": [
        {
          "output_type": "execute_result",
          "data": {
            "text/plain": [
              "array([-40.,  14.,  32.,  46.,  59.,  72.])"
            ]
          },
          "metadata": {},
          "execution_count": 105
        }
      ]
    },
    {
      "cell_type": "markdown",
      "source": [
        "## Error Calculation MEthod"
      ],
      "metadata": {
        "id": "AWNBfVrN2LJE"
      }
    },
    {
      "cell_type": "code",
      "source": [
        "print(y_pred - y_data) # residual/error\n",
        "print((y_pred - y_data)**2) # if u sum the error as it is the +ve and -ve vals will get cancel out each other\n",
        "print(np.sum((y_pred - y_data)**2)/len(y_data))\n",
        "print(np.mean((y_pred - y_data)**2))"
      ],
      "metadata": {
        "colab": {
          "base_uri": "https://localhost:8080/"
        },
        "id": "7IFKiDCv1yFp",
        "outputId": "4ad49b92-8c84-45f5-d4ef-e9faf2e5bb83"
      },
      "execution_count": null,
      "outputs": [
        {
          "output_type": "stream",
          "name": "stdout",
          "text": [
            "[  1. -23. -31. -37. -43. -49.]\n",
            "[1.000e+00 5.290e+02 9.610e+02 1.369e+03 1.849e+03 2.401e+03]\n",
            "1185.0\n",
            "1185.0\n"
          ]
        }
      ]
    },
    {
      "cell_type": "code",
      "source": [
        "def error(y, y_hat):\n",
        "  return np.mean((y - y_hat)**2)"
      ],
      "metadata": {
        "id": "DLav882616ro"
      },
      "execution_count": null,
      "outputs": []
    },
    {
      "cell_type": "code",
      "source": [
        "error(y_data, y_pred)"
      ],
      "metadata": {
        "colab": {
          "base_uri": "https://localhost:8080/"
        },
        "id": "8D8yYa863BW1",
        "outputId": "cde88d20-a3af-4c87-ba66-9c9e1f6f5c28"
      },
      "execution_count": null,
      "outputs": [
        {
          "output_type": "execute_result",
          "data": {
            "text/plain": [
              "1185.0"
            ]
          },
          "metadata": {},
          "execution_count": 108
        }
      ]
    },
    {
      "cell_type": "markdown",
      "source": [
        "## RAndom search value of c"
      ],
      "metadata": {
        "id": "Fl_P8JKc2Ztv"
      }
    },
    {
      "cell_type": "code",
      "source": [
        "m = 1.8\n",
        "c_vals = [25,26,27,28,29,30,31,32,33,34]\n",
        "\n",
        "for cc in c_vals:\n",
        "  y_pred = x_data * m + cc\n",
        "  # print(y_pred)\n",
        "  print(cc, error(y_data, y_pred))"
      ],
      "metadata": {
        "colab": {
          "base_uri": "https://localhost:8080/"
        },
        "id": "XSjbDpnw3ERp",
        "outputId": "0a3684e9-0708-4f0d-d86e-0c952a40fbb9"
      },
      "execution_count": null,
      "outputs": [
        {
          "output_type": "stream",
          "name": "stdout",
          "text": [
            "25 49.05333333333335\n",
            "26 36.05333333333335\n",
            "27 25.053333333333345\n",
            "28 16.05333333333334\n",
            "29 9.05333333333334\n",
            "30 4.053333333333338\n",
            "31 1.0533333333333361\n",
            "32 0.0533333333333339\n",
            "33 1.0533333333333315\n",
            "34 4.053333333333329\n"
          ]
        }
      ]
    },
    {
      "cell_type": "markdown",
      "source": [
        "```\n",
        "c = 30, 32, 34, 36\n",
        "m = 1, 1.5, 2. 2.5\n",
        "\n",
        "16 combination\n",
        "\n",
        "c = 1 to 40 (step = 1) 40\n",
        "m = 0 to 4 (step = 0.1) 40\n",
        "\n",
        "1600\n",
        "```"
      ],
      "metadata": {
        "id": "iDzYFKW72ga5"
      }
    },
    {
      "cell_type": "code",
      "source": [
        "m = 1\n",
        "c = 50\n",
        "\n",
        "y_pred = x_data * m + c\n",
        "print(y_pred)\n",
        "print(error(y_data, y_pred))"
      ],
      "metadata": {
        "colab": {
          "base_uri": "https://localhost:8080/"
        },
        "id": "WM5N2Cv03x5J",
        "outputId": "0c72bfda-382c-449d-b75e-4abdf57d41d6"
      },
      "execution_count": null,
      "outputs": [
        {
          "output_type": "stream",
          "name": "stdout",
          "text": [
            "[10. 40. 50. 58. 65. 72.]\n",
            "613.3333333333334\n"
          ]
        }
      ]
    },
    {
      "cell_type": "code",
      "source": [
        "x = np.array([-40, -10, 0, 8, 15, 22], dtype=float)\n",
        "y = np.array([-40, 14, 32, 46, 59, 72], dtype=float)"
      ],
      "metadata": {
        "id": "xkzgbVzA54f1"
      },
      "execution_count": null,
      "outputs": []
    },
    {
      "cell_type": "code",
      "source": [
        "m = 1\n",
        "c = 1\n",
        "lr = 0.001\n",
        "\n",
        "n = len(x)\n",
        "\n",
        "y_hat = m * x + c\n",
        "print(y_hat)\n",
        "e = error(y,y_hat)\n",
        "print(m, c, e)\n",
        "\n",
        "#These are partial derivatives of the error with respect to m and c using the gradient of the mean squared error loss function.\n",
        "\n",
        "de_dm = (-2/n) * np.sum(x * (y - y_hat))\n",
        "de_dc = (-2/n) * np.sum(y - y_hat)\n",
        "\n",
        "print(\"***\")\n",
        "print(de_dm, de_dc)\n",
        "m = m - (lr * de_dm)\n",
        "c = c - (lr * de_dc)\n",
        "print(m,c)\n",
        "y_hat = m * x + c\n",
        "print(y_hat)\n",
        "e = error(y,y_hat)\n",
        "\n",
        "print(m, c, e)\n"
      ],
      "metadata": {
        "colab": {
          "base_uri": "https://localhost:8080/"
        },
        "id": "h99jh08h-gy_",
        "outputId": "d1c0df06-9dd2-49a2-cd92-110bd2409783"
      },
      "execution_count": null,
      "outputs": [
        {
          "output_type": "stream",
          "name": "stdout",
          "text": [
            "[-39.  -9.   1.   9.  16.  23.]\n",
            "1 1 1185.0\n",
            "***\n",
            "-609.6666666666666 -60.666666666666664\n",
            "1.6096666666666666 1.0606666666666666\n",
            "[-63.326      -15.036        1.06066667  13.938       25.20566667\n",
            "  36.47333333]\n",
            "1.6096666666666666 1.0606666666666666 962.7677954999998\n"
          ]
        }
      ]
    },
    {
      "cell_type": "code",
      "source": [
        "print(de_dm, de_dc)\n"
      ],
      "metadata": {
        "colab": {
          "base_uri": "https://localhost:8080/"
        },
        "id": "rC_OJkzMHMny",
        "outputId": "95ede53c-170c-4498-9cec-f0e4350f7c9c"
      },
      "execution_count": null,
      "outputs": [
        {
          "output_type": "stream",
          "name": "stdout",
          "text": [
            "-609.6666666666666 -60.666666666666664\n"
          ]
        }
      ]
    },
    {
      "cell_type": "code",
      "source": [
        "m = -1000\n",
        "c = -1000\n",
        "lr = 0.001\n",
        "epochs = 5000\n",
        "\n",
        "n = len(x)\n",
        "+\n",
        "for i in range(epochs):\n",
        "  y_hat = m * x + c\n",
        "  #print(y_hat)\n",
        "  e = error(y, y_hat)\n",
        "  if i%50 == 0:\n",
        "    print(m, c, e)\n",
        "\n",
        "  de_dm = (-2/n) * np.sum(x * (y - y_hat))\n",
        "  de_dc = (-2/n) * np.sum(y - y_hat)\n",
        "  m = m - (lr * de_dm)\n",
        "  c = c - (lr * de_dc)\n"
      ],
      "metadata": {
        "colab": {
          "base_uri": "https://localhost:8080/"
        },
        "id": "t8rFnhEH-4At",
        "outputId": "7431c4e4-cf41-411c-d927-98086d749c1c"
      },
      "execution_count": null,
      "outputs": [
        {
          "output_type": "stream",
          "name": "stdout",
          "text": [
            "-1000 -1000 412995600.1666667\n",
            "-0.09414046303916644 -903.6900260666728 874044.2917934192\n",
            "0.08620811345969655 -814.7056729015914 715705.8543052323\n",
            "0.2494055303252847 -734.1837366605912 586051.3891176303\n",
            "0.3970828637905104 -661.3194410245796 479884.61995055835\n",
            "0.5307160746480097 -595.384543947071 392950.6076196656\n",
            "0.6516407597371462 -535.7200592406132 321765.2210882673\n",
            "0.7610655005637296 -481.72967034075 263475.50087683887\n",
            "0.860083942465312 -432.8737704213964 215745.31849132932\n",
            "0.9496857250471392 -388.664069295574 176661.74934241918\n",
            "1.0307663731330905 -348.6587132001826 144658.40678068224\n",
            "1.1041362470865919 -312.457868689513 118452.66463820853\n",
            "1.170528641955542 -279.6997265007311 96994.25228915304\n",
            "1.230607116388086 -250.05688545197714 79423.1620281457\n",
            "1.2849721245681116 -223.233080231954 65035.18178346271\n",
            "1.3341670174532945 -198.96022037691046 53253.671789129585\n",
            "1.378683473295084 -176.99571084107544 43606.45408476387\n",
            "1.4189664117159313 -157.12002738099295 35706.888623274346\n",
            "1.4554184404575017 -139.13452252094183 29238.37755690553\n",
            "1.4884038792428858 -122.85944017116603 23941.67666624086\n",
            "1.5182524009692921 -108.13211905602044 19604.50540112048\n",
            "1.5452623266231091 -94.80536699620046 16053.039125926407\n",
            "1.569703606848364 -82.74598979682179 13144.942596450137\n",
            "1.5918205199678566 -71.83346003832494 10763.665464854732\n",
            "1.611834113422334 -61.958712465439156 8813.771188655985\n",
            "1.6299444130286598 -53.02305393472228 7217.11213629053\n",
            "1.6463324221374138 -44.937177026150415 5909.697595605604\n",
            "1.6611619306704926 -37.62026746029993 4839.129161686041\n",
            "1.6745811521191287 -30.999196400205104 3962.500719796021\n",
            "1.6867242048633166 -25.00778956535382 3244.6788592009175\n",
            "1.6977124526176672 -19.586165852982955 2656.8948004983617\n",
            "1.7076557174007994 -14.680138856525176 2175.591403889033\n",
            "1.716653377151266 -10.240675299684723 1781.4790489214377\n",
            "1.7247953589601486 -6.22340497346259 1458.7625473710013\n",
            "1.7321630378471766 -2.5881772781978682 1194.508105559566\n",
            "1.7388300500631881 0.7013400615145017 978.1249653061697\n",
            "1.7448630290474785 3.6780241196723367 800.9409487766321\n",
            "1.75032227139557 6.371625358711788 655.8548959687515\n",
            "1.755262339493404 8.809064970440359 537.0520652638609\n",
            "1.7597326068409904 11.014703939830714 439.7710909018078\n",
            "1.7637777515157491 13.010586520832703 360.11315752866943\n",
            "1.7674382027074578 14.816660557622251 294.8857439373586\n",
            "1.7707505447877026 16.450976853287166 241.47467358128725\n",
            "1.7737478829523015 17.92986957853989 197.73934391674848\n",
            "1.7764601740911135 19.26811952355167 161.92693558802364\n",
            "1.7789145261921087 20.479101824528225 132.60216314111042\n",
            "1.7811354692720982 21.574919641479887 108.58975182350888\n",
            "1.7831452005419322 22.566525123228324 88.92733506206635\n",
            "1.784963806256477 23.463828868634494 72.82688484958568\n",
            "1.7866094624666473 24.275798978057725 59.643129251804474\n",
            "1.7880986166799067 25.0105506850155 48.847691275337546\n",
            "1.7894461522448462 25.675427463867404 40.00791263719629\n",
            "1.7906655371027802 26.277074424153934 32.76951373743142\n",
            "1.7917689583930565 26.821504725129515 26.842394883340493\n",
            "1.7927674442573942 27.314159674269806 21.98900970838668\n",
            "1.7936709740606234 27.75996311040755 18.014844817091557\n",
            "1.7944885781294255 28.163370615029276 14.760624100238319\n",
            "1.7952284280059123 28.52841404357484 12.095925285855431\n",
            "1.7958979181180883 28.85874182180805 9.913952890866927\n",
            "1.7965037396834438 29.157655410000146 8.127258084386588\n",
            "1.7970519475843145 29.428142299367305 6.6642339238446935\n",
            "1.7975480208833905 29.67290587054531 5.466245500435111\n",
            "1.7979969175841952 29.894392412521423 4.485279976194051\n",
            "1.7984031241838423 30.09481557206446 3.6820223311738354\n",
            "1.798770700513321 30.27617847801271 3.0242797007356486\n",
            "1.799103320313468 30.440293761540758 2.485691153738594\n",
            "1.7994043079521629 30.588801672497915 2.0446712022673235\n",
            "1.7996766716497152 30.72318647288178 1.6835447010074034\n",
            "1.7999231335445154 30.844791271291598 1.3878384648674054\n",
            "1.8001461568994428 30.954831446624333 1.1457012143831016\n",
            "1.8003479707209404 31.05440679517637 0.9474286015446673\n",
            "1.8005305920368144 31.144512522555292 0.7850742800879141\n",
            "1.800695846055414 31.22604919026018 0.6521314327710994\n",
            "1.8008453844076746 31.299831716341554 0.5432719919252\n",
            "1.8009807016543367 31.36659752009811 0.45413310178963745\n",
            "1.8011031502233317 31.42701389221231 0.3811422644965621\n",
            "1.8012139539266203 31.481684663985725 0.3213741619249069\n",
            "1.8013142201915773 31.531156242329605 0.27243341514770236\n",
            "1.8014049511291728 31.575923070827617 0.23235858271951293\n",
            "1.8014870535495677 31.61643257145117 0.1995435502587731\n",
            "1.8015613480252268 31.653089616317413 0.1726731607860311\n",
            "1.801628577092128 31.686260574182622 0.15067050601858356\n",
            "1.8016894126710363 31.716276972114063 0.13265376616795102\n",
            "1.8017444627830141 31.743438808936517 0.11790086847098975\n",
            "1.801794277626288 31.76801755356983 0.10582054804337117\n",
            "1.801839355075202 31.790258858224554 0.09592865123559234\n",
            "1.801880145656223 31.810385013572358 0.08782873178047211\n",
            "1.8019170570507252 31.828597170429717 0.08119616206666112\n",
            "1.8019504581695618 31.84507735015926 0.07576512275173282\n",
            "1.8019806828401435 31.85999026388198 0.07131794928608064\n",
            "1.8020080331428758 31.873484958682095 0.06767640837894065\n",
            "1.8020327824303004 31.88569630725785 0.06469455478568986\n",
            "1.8020551780591172 31.8967463559064 0.06225288213163296\n",
            "1.802075443862391 31.906745544315267 0.06025353334970296\n",
            "1.8020937823866487 31.915793809351545 0.05861637877651834\n",
            "1.802110376916232 31.923981583880753 0.05727580472524729\n",
            "1.8021253933051309 31.93139070059786 0.056178083828040105\n",
            "1.802138981634612 31.93809520990402 0.05527922175695658\n",
            "1.8021512777132056 31.944162120003107 0.054543194024507725\n",
            "1.8021624044340425 31.949652066615077 0.05394050219851937\n"
          ]
        }
      ]
    },
    {
      "cell_type": "code",
      "source": [
        "print(m,c)"
      ],
      "metadata": {
        "colab": {
          "base_uri": "https://localhost:8080/"
        },
        "id": "5zgpwEUWAe-x",
        "outputId": "8cc51c69-3a1f-4c4b-8c7f-93d5925fcb08"
      },
      "execution_count": null,
      "outputs": [
        {
          "output_type": "stream",
          "name": "stdout",
          "text": [
            "1.8021724730031106 31.954619918999597\n"
          ]
        }
      ]
    },
    {
      "cell_type": "markdown",
      "source": [
        "## TensorFlow Gradients"
      ],
      "metadata": {
        "id": "vIe7S6o93kYP"
      }
    },
    {
      "cell_type": "code",
      "source": [
        "import tensorflow as tf"
      ],
      "metadata": {
        "id": "IEteg4G13j48"
      },
      "execution_count": null,
      "outputs": []
    },
    {
      "cell_type": "code",
      "source": [
        "x = tf.Variable(3.0)\n",
        "\n",
        "x"
      ],
      "metadata": {
        "id": "rjQUoBTf3j7B",
        "colab": {
          "base_uri": "https://localhost:8080/"
        },
        "outputId": "b601b8f8-4888-4793-c5ca-06239c29b60a"
      },
      "execution_count": null,
      "outputs": [
        {
          "output_type": "execute_result",
          "data": {
            "text/plain": [
              "<tf.Variable 'Variable:0' shape=() dtype=float32, numpy=3.0>"
            ]
          },
          "metadata": {},
          "execution_count": 117
        }
      ]
    },
    {
      "cell_type": "code",
      "source": [
        "y = x**2\n",
        "print(y)"
      ],
      "metadata": {
        "colab": {
          "base_uri": "https://localhost:8080/"
        },
        "id": "b3h679Zp3j9R",
        "outputId": "8a2f5b83-07b4-4a4f-e74b-2d2196a657ab"
      },
      "execution_count": null,
      "outputs": [
        {
          "output_type": "stream",
          "name": "stdout",
          "text": [
            "tf.Tensor(9.0, shape=(), dtype=float32)\n"
          ]
        }
      ]
    },
    {
      "cell_type": "code",
      "source": [
        "# Manually calculate gradient\n",
        "dy_dx = 2*x\n",
        "print(dy_dx)"
      ],
      "metadata": {
        "colab": {
          "base_uri": "https://localhost:8080/"
        },
        "id": "yXtJTz4H3kCS",
        "outputId": "04873c64-6076-454b-b4d7-989f99521ebe"
      },
      "execution_count": null,
      "outputs": [
        {
          "output_type": "stream",
          "name": "stdout",
          "text": [
            "tf.Tensor(6.0, shape=(), dtype=float32)\n"
          ]
        }
      ]
    },
    {
      "cell_type": "code",
      "source": [
        "with tf.GradientTape() as tape:\n",
        "  y = x**2"
      ],
      "metadata": {
        "id": "YjV_yyf-3wdN"
      },
      "execution_count": null,
      "outputs": []
    },
    {
      "cell_type": "code",
      "source": [
        "dy_dx = tape.gradient(y, x)\n",
        "dy_dx.numpy()"
      ],
      "metadata": {
        "colab": {
          "base_uri": "https://localhost:8080/"
        },
        "id": "ZS_YnAP-3wf8",
        "outputId": "44e72f99-37db-462d-dfc1-5ab0caaaa704"
      },
      "execution_count": null,
      "outputs": [
        {
          "output_type": "execute_result",
          "data": {
            "text/plain": [
              "6.0"
            ]
          },
          "metadata": {},
          "execution_count": 121
        }
      ]
    },
    {
      "cell_type": "code",
      "source": [
        "2*x**2 + 5*x"
      ],
      "metadata": {
        "colab": {
          "base_uri": "https://localhost:8080/"
        },
        "id": "dyE1Xmek4q2E",
        "outputId": "266c229f-6dc7-40c3-bcb4-e7e471514efa"
      },
      "execution_count": null,
      "outputs": [
        {
          "output_type": "execute_result",
          "data": {
            "text/plain": [
              "<tf.Tensor: shape=(), dtype=float32, numpy=33.0>"
            ]
          },
          "metadata": {},
          "execution_count": 122
        }
      ]
    },
    {
      "cell_type": "code",
      "source": [
        "with tf.GradientTape() as tape:\n",
        "  y = 2*x**2 + 5*x\n",
        "\n",
        "dy_dx = tape.gradient(y, x)\n",
        "dy_dx.numpy()"
      ],
      "metadata": {
        "colab": {
          "base_uri": "https://localhost:8080/"
        },
        "id": "FOCeAw7h4w2I",
        "outputId": "8b09a1f7-3a1d-4c43-ea68-ef8125eb7d45"
      },
      "execution_count": null,
      "outputs": [
        {
          "output_type": "execute_result",
          "data": {
            "text/plain": [
              "17.0"
            ]
          },
          "metadata": {},
          "execution_count": 123
        }
      ]
    },
    {
      "cell_type": "code",
      "source": [
        "4 * x + 5"
      ],
      "metadata": {
        "colab": {
          "base_uri": "https://localhost:8080/"
        },
        "id": "09N-MNrA43Ky",
        "outputId": "3b63e447-26be-431e-9360-6112563f897e"
      },
      "execution_count": null,
      "outputs": [
        {
          "output_type": "execute_result",
          "data": {
            "text/plain": [
              "<tf.Tensor: shape=(), dtype=float32, numpy=17.0>"
            ]
          },
          "metadata": {},
          "execution_count": 124
        }
      ]
    },
    {
      "cell_type": "code",
      "source": [
        "with tf.GradientTape() as tape:\n",
        "  y = tf.math.sin(x**2)\n",
        "\n",
        "dy_dx = tape.gradient(y, x)\n",
        "dy_dx.numpy()"
      ],
      "metadata": {
        "colab": {
          "base_uri": "https://localhost:8080/"
        },
        "id": "_atYbSQd4_ce",
        "outputId": "f66c4fa0-d4b5-44bf-97b8-6b57c85ed459"
      },
      "execution_count": null,
      "outputs": [
        {
          "output_type": "execute_result",
          "data": {
            "text/plain": [
              "-5.4667816"
            ]
          },
          "metadata": {},
          "execution_count": 125
        }
      ]
    },
    {
      "cell_type": "code",
      "source": [
        "with tf.GradientTape() as tape:\n",
        "  y = x**2\n",
        "  z = 2 * y**2\n",
        "\n",
        "dz_dx = tape.gradient(z, x)\n",
        "dz_dx.numpy()"
      ],
      "metadata": {
        "colab": {
          "base_uri": "https://localhost:8080/"
        },
        "id": "dw8IVbqi5H56",
        "outputId": "39c89691-b99e-4a5d-cf84-8ca045d34c89"
      },
      "execution_count": null,
      "outputs": [
        {
          "output_type": "execute_result",
          "data": {
            "text/plain": [
              "216.0"
            ]
          },
          "metadata": {},
          "execution_count": 126
        }
      ]
    },
    {
      "cell_type": "code",
      "source": [
        "x = tf.Variable(1.5)\n",
        "with tf.GradientTape() as tape:\n",
        "  y = tf.math.sin(x**2)\n",
        "\n",
        "dy_dx = tape.gradient(y, x)\n",
        "dy_dx.numpy()"
      ],
      "metadata": {
        "colab": {
          "base_uri": "https://localhost:8080/"
        },
        "id": "Ubs8vcti5efB",
        "outputId": "985ccc96-5549-4b3e-fe1c-1817fefe0296"
      },
      "execution_count": null,
      "outputs": [
        {
          "output_type": "execute_result",
          "data": {
            "text/plain": [
              "-1.884521"
            ]
          },
          "metadata": {},
          "execution_count": 127
        }
      ]
    },
    {
      "cell_type": "code",
      "source": [
        "# w = tf.Variable(tf.random.normal((3, 2)), name='w')\n",
        "# b = tf.Variable(tf.zeros(2, dtype=tf.float32), name='b')\n",
        "# x = [[1., 2., 3.]]\n",
        "\n",
        "# with tf.GradientTape(persistent=True) as tape:\n",
        "#   y = x @ w + b\n",
        "# loss = tf.reduce_mean(y**2)"
      ],
      "metadata": {
        "id": "y8COX33-5yeS"
      },
      "execution_count": null,
      "outputs": []
    },
    {
      "cell_type": "code",
      "source": [
        "loss"
      ],
      "metadata": {
        "id": "AcdeAt105ygc",
        "colab": {
          "base_uri": "https://localhost:8080/"
        },
        "outputId": "4c9916e3-781a-472a-b1bc-4772f385aebe"
      },
      "execution_count": null,
      "outputs": [
        {
          "output_type": "execute_result",
          "data": {
            "text/plain": [
              "<tf.Tensor: shape=(), dtype=float32, numpy=5.2843766>"
            ]
          },
          "metadata": {},
          "execution_count": 129
        }
      ]
    },
    {
      "cell_type": "markdown",
      "source": [
        "## Using TensorFlow Gradients"
      ],
      "metadata": {
        "id": "ylKQ0iGugF6p"
      }
    },
    {
      "cell_type": "code",
      "source": [
        "import tensorflow as tf"
      ],
      "metadata": {
        "id": "MtgkLHqIgTK7"
      },
      "execution_count": null,
      "outputs": []
    },
    {
      "cell_type": "code",
      "source": [
        "x = np.array([-40, -10, 0, 8, 15, 22], dtype=float)\n",
        "y = np.array([-40, 14, 32, 46, 59, 72], dtype=float)"
      ],
      "metadata": {
        "id": "Df4QT5tzzhlr"
      },
      "execution_count": null,
      "outputs": []
    },
    {
      "cell_type": "code",
      "source": [
        "# Error Function/Loss Function\n",
        "def error(y_hat):\n",
        "  return tf.reduce_mean((y - y_hat)**2)"
      ],
      "metadata": {
        "id": "tBTDb5Ffzosp"
      },
      "execution_count": null,
      "outputs": []
    },
    {
      "cell_type": "code",
      "source": [
        "# weights\n",
        "m = tf.Variable(1.0)\n",
        "c = tf.Variable(0.0)\n",
        "\n",
        "# Hyper parameters\n",
        "learning_rate = 0.001 # slow learning\n",
        "epoch = 2000\n",
        "\n",
        "# there is also adaptive learning rate algos (adam, rmsprop)\n",
        "\n",
        "# error values for plotting\n",
        "error_vals = []\n",
        "m_vals = []\n",
        "c_vals = []\n",
        "n = len(x)\n",
        "\n",
        "# learning loop\n",
        "for i in range(epoch):\n",
        "\n",
        "  with tf.GradientTape(persistent=True) as tape:\n",
        "    # forward propagation (matrix multiplication)\n",
        "    y_hat = m * x + c # model\n",
        "\n",
        "    # MSE (Loss Function)\n",
        "    mse = error(y_hat)\n",
        "    if i%100 == 0:\n",
        "      print(\"m = %.2f, c = %.2f, mse = %.2f\" % (m, c, mse))\n",
        "\n",
        "  [de_dm, de_dc] = tape.gradient(mse, [m, c])\n",
        "\n",
        "  # #### Back Prop\n",
        "  # # Compute  Gradients\n",
        "  # de_dm = (-2/n) * np.sum(x * (y - y_hat)) # rate of change of e w.r.t m\n",
        "  # de_dc = (-2/n) * np.sum(y - y_hat) # rate of change of e w.r.t c\n",
        "\n",
        "  # Update the weights\n",
        "  m.assign_sub(de_dm * learning_rate)\n",
        "  c.assign_sub(de_dc * learning_rate)\n"
      ],
      "metadata": {
        "colab": {
          "base_uri": "https://localhost:8080/"
        },
        "id": "ls1ELbE7gFdk",
        "outputId": "0a1e2693-e5c0-431d-ba36-ddf856e6335b"
      },
      "execution_count": null,
      "outputs": [
        {
          "output_type": "stream",
          "name": "stdout",
          "text": [
            "m = 1.00, c = 0.00, mse = 1246.67\n",
            "m = 1.75, c = 5.80, mse = 685.64\n",
            "m = 1.76, c = 10.54, mse = 459.74\n",
            "m = 1.77, c = 14.43, mse = 308.27\n",
            "m = 1.77, c = 17.61, mse = 206.72\n",
            "m = 1.78, c = 20.22, mse = 138.62\n",
            "m = 1.78, c = 22.35, mse = 92.96\n",
            "m = 1.79, c = 24.10, mse = 62.35\n",
            "m = 1.79, c = 25.53, mse = 41.82\n",
            "m = 1.79, c = 26.71, mse = 28.06\n",
            "m = 1.79, c = 27.66, mse = 18.83\n",
            "m = 1.80, c = 28.45, mse = 12.64\n",
            "m = 1.80, c = 29.09, mse = 8.49\n",
            "m = 1.80, c = 29.62, mse = 5.71\n",
            "m = 1.80, c = 30.05, mse = 3.85\n",
            "m = 1.80, c = 30.41, mse = 2.60\n",
            "m = 1.80, c = 30.69, mse = 1.76\n",
            "m = 1.80, c = 30.93, mse = 1.20\n",
            "m = 1.80, c = 31.13, mse = 0.82\n",
            "m = 1.80, c = 31.28, mse = 0.57\n"
          ]
        }
      ]
    },
    {
      "cell_type": "code",
      "source": [
        "print(m,c)"
      ],
      "metadata": {
        "id": "-qS0ebhTgRhq",
        "colab": {
          "base_uri": "https://localhost:8080/"
        },
        "outputId": "933b088c-4f90-4991-f555-7c9a2487f59a"
      },
      "execution_count": null,
      "outputs": [
        {
          "output_type": "stream",
          "name": "stdout",
          "text": [
            "<tf.Variable 'Variable:0' shape=() dtype=float32, numpy=1.801077> <tf.Variable 'Variable:0' shape=() dtype=float32, numpy=31.414099>\n"
          ]
        }
      ]
    },
    {
      "cell_type": "markdown",
      "source": [
        "## Clasroom taskk"
      ],
      "metadata": {
        "id": "FCD6op6ABzJZ"
      }
    },
    {
      "cell_type": "code",
      "source": [
        "# # use a real dataset for the above code\n",
        "# x = sqftarea\n",
        "# y = price"
      ],
      "metadata": {
        "id": "4BdrP_PnBZCa"
      },
      "execution_count": null,
      "outputs": []
    },
    {
      "cell_type": "code",
      "source": [
        "## Task 2\n",
        "\n",
        "# modify the above algrithm for univariate (3 variables)\n",
        "\n",
        "# y = m1x1 + m2x2 + mx3 + c\n",
        "\n",
        "m1 = 0\n",
        "m2 = 0\n",
        "m3 = 0\n",
        "c = 1\n",
        "\n",
        "de_dm1 =\n",
        "de_dm2 =\n",
        "de_dm3 =\n",
        "de_dc =\n",
        "\n",
        "m1 = m1 - lr * de_dm1"
      ],
      "metadata": {
        "id": "d7BK-CyVCCWQ",
        "colab": {
          "base_uri": "https://localhost:8080/",
          "height": 141
        },
        "outputId": "66ca470b-d035-4309-9dc0-d183325711c5"
      },
      "execution_count": null,
      "outputs": [
        {
          "output_type": "error",
          "ename": "SyntaxError",
          "evalue": "ignored",
          "traceback": [
            "\u001b[0;36m  File \u001b[0;32m\"<ipython-input-136-285ea52f6d39>\"\u001b[0;36m, line \u001b[0;32m12\u001b[0m\n\u001b[0;31m    de_dm1 =\u001b[0m\n\u001b[0m            ^\u001b[0m\n\u001b[0;31mSyntaxError\u001b[0m\u001b[0;31m:\u001b[0m invalid syntax\n"
          ]
        }
      ]
    }
  ]
}